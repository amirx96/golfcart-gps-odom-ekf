{
 "cells": [
  {
   "cell_type": "code",
   "execution_count": 48,
   "metadata": {},
   "outputs": [],
   "source": [
    "import pandas\n",
    "import matplotlib.pyplot as plt\n",
    "import numpy as np\n",
    "import math\n",
    "from scipy.optimize import least_squares"
   ]
  },
  {
   "cell_type": "markdown",
   "metadata": {},
   "source": [
    "## Load and Manipulate Data"
   ]
  },
  {
   "cell_type": "code",
   "execution_count": 2,
   "metadata": {},
   "outputs": [],
   "source": [
    "# Load INS data\n",
    "ins_data = pandas.read_csv('csv/2-vectornav-ins.csv')\n",
    "ins_data = ins_data.drop(columns=['.header.stamp.secs','.header.stamp.nsecs'])\n",
    "ins_data['time'] = pandas.to_datetime(ins_data['time'])\n",
    "ins_data['time'] = (ins_data['time'] - ins_data['time'][0]).astype('timedelta64[ns]').astype('int64')*1e-9\n",
    "ins_data = ins_data.set_index('time')\n",
    "\n",
    "# Load IMU Data\n",
    "imu_data = pandas.read_csv('csv/2-vectornav-imu.csv') \n",
    "imu_data = imu_data.drop(columns=['.header.stamp.secs','.header.stamp.nsecs'])\n",
    "imu_data['time'] = pandas.to_datetime(imu_data['time'])\n",
    "imu_data['time'] = (imu_data['time'] - imu_data['time'][0]).astype('timedelta64[ns]').astype('int64')*1e-9\n",
    "imu_data = imu_data.set_index('time')\n",
    "\n",
    "# Load Pacmod Speed Data\n",
    "# pacmod parsed_txt/vehicle_speed is gets corrupt rows, so we will use as_tx/vehicle_speed\n",
    "pacmod_speed = pandas.read_csv('csv/2-pacmod-as_tx-vehicle_speed.csv')\n",
    "pacmod_speed['time'] = pandas.to_datetime(pacmod_speed['time'])\n",
    "pacmod_speed['time'] = (pacmod_speed['time'] - pacmod_speed['time'][0]).astype('timedelta64[ns]').astype('int64')*1e-9\n",
    "pacmod_speed['.data'] = pacmod_speed['.data']*2.237 # Correction from parsed_txt/vehicle_speed to as_tx/vehicle_speed\n",
    "pacmod_speed = pacmod_speed.set_index('time')\n",
    "\n",
    "# Load Pacmod Steer Data\n",
    "pacmod_steer = pandas.read_csv('csv/2-pacmod-parsed_tx-steer_rpt.csv')\n",
    "pacmod_steer = pacmod_steer.drop(columns=['.header.stamp.secs','.header.stamp.nsecs'])\n",
    "pacmod_steer['time'] = pandas.to_datetime(pacmod_steer['time'])\n",
    "pacmod_steer['time'] = (pacmod_steer['time'] - pacmod_steer['time'][0]).astype('timedelta64[ns]').astype('int64')*1e-9\n",
    "pacmod_steer = pacmod_steer.set_index('time')"
   ]
  },
  {
   "cell_type": "markdown",
   "metadata": {},
   "source": [
    "## Steering Ratio Estimation\n",
    "\n",
    "In order to estimate the steering ratio, the following script iterates over multiple simulations, with a starting steering ratio estimated by measuring the angular offsets of the steering wheel and the tires. With each iteration, the steering ratio is updated by the relative error of heading compared to the INS gyroscope."
   ]
  },
  {
   "cell_type": "code",
   "execution_count": 3,
   "metadata": {},
   "outputs": [],
   "source": [
    "wheelbase = 3.4 # Known from measurements\n",
    "rate = 30       # Hz\n",
    "SR   = 21       # Best first guess.\n",
    "\n",
    "for ii in range(10):\n",
    "    predicted_yaw = [ins_data['.RPY.z'][0]* np.pi/180] # Initialize first heading value to INS heading\n",
    "\n",
    "    for steering,time in zip(pacmod_steer['.manual_input'],pacmod_steer.index):    \n",
    "        V = pacmod_speed.iloc[pacmod_speed.index.get_loc(time,method='nearest')]['.data']\n",
    "        prediction = predicted_yaw[-1] - (V/wheelbase)*np.tan(steering/SR)/rate # updated equation. \n",
    "        prediction = (prediction + np.pi) % (2* np.pi) - np.pi # Wrap to pi\n",
    "        predicted_yaw.append(prediction)\n",
    "\n",
    "    SR = SR * (predicted_yaw[-1] + 7 * np.pi) / (ins_data.iloc[-1,7] * np.pi/180 + 7 * np.pi)\n"
   ]
  },
  {
   "cell_type": "code",
   "execution_count": 4,
   "metadata": {},
   "outputs": [],
   "source": [
    "# Simulate one final time to plot results\n",
    "\n",
    "predicted_yaw = [ins_data['.RPY.z'][0]* np.pi/180] # Initialize first heading value to INS heading\n",
    "\n",
    "for steering,time in zip(pacmod_steer['.manual_input'],pacmod_steer.index):    \n",
    "    V = pacmod_speed.iloc[pacmod_speed.index.get_loc(time,method='nearest')]['.data']\n",
    "    prediction = predicted_yaw[-1] - (V/wheelbase)*np.tan(steering/SR)/rate # updated equation. \n",
    "    prediction = (prediction + np.pi) % (2* np.pi) - np.pi # Wrap to pi\n",
    "    predicted_yaw.append(prediction)"
   ]
  },
  {
   "cell_type": "code",
   "execution_count": 90,
   "metadata": {},
   "outputs": [
    {
     "data": {
      "image/png": "[encoded data removed]",
      "text/plain": [
       "<Figure size 432x288 with 1 Axes>"
      ]
     },
     "metadata": {
      "needs_background": "light"
     },
     "output_type": "display_data"
    },
    {
     "name": "stdout",
     "output_type": "stream",
     "text": [
      "Steering Ratio: 22.17144334821909\n"
     ]
    }
   ],
   "source": [
    "# Plotting \n",
    "\n",
    "plt.figure()\n",
    "plt.plot(ins_data.index.values,ins_data['.RPY.z'] * np.pi/180,label='INS') # plot yaw\n",
    "plt.plot(pacmod_steer.index,predicted_yaw[0:-1],label='Prediction')\n",
    "plt.xlabel('Time [s]')\n",
    "plt.ylabel('Heading [rad]')\n",
    "plt.legend()\n",
    "plt.show();\n",
    "print('Steering Ratio: ' + str(SR))"
   ]
  },
  {
   "cell_type": "markdown",
   "metadata": {},
   "source": [
    "## IMU Misalignment Estimation\n",
    "\n",
    "To estimate the misalignment of the IMU, since the route taken by the golfcart was a loop, the mean acceleartion in the x and y directions should be zero. However, due to misalignment of the IMU, there is a bias due to gravity. Taking the average values, it is possible to estimate the correction rotation matrix. The position error is minimized using non-linear least squares."
   ]
  },
  {
   "cell_type": "code",
   "execution_count": 73,
   "metadata": {},
   "outputs": [
    {
     "name": "stdout",
     "output_type": "stream",
     "text": [
      "IMU Misalignment Initial Guess:\n",
      "[[-9.99907436e-01  1.73684264e-05  1.36058318e-02]\n",
      " [ 1.73684264e-05 -9.99996741e-01  2.55296325e-03]\n",
      " [ 1.36058318e-02  2.55296325e-03  9.99904177e-01]]\n"
     ]
    }
   ],
   "source": [
    "ax_bar = np.mean(imu_data['.Accel.x'])\n",
    "ay_bar = np.mean(imu_data['.Accel.y'])\n",
    "az_bar = np.mean(imu_data['.Accel.z'])\n",
    "a = np.array([[ax_bar], [ay_bar], [az_bar]])\n",
    "g = np.array([[0.0], [0.0], [-9.81]])\n",
    "\n",
    "misa = 2.0*(np.matmul(a+g, (a+g).T))/(np.matmul((a+g).T,(a+g)))-np.identity(3)\n",
    "print('IMU Misalignment Initial Guess:')\n",
    "print(misa)"
   ]
  },
  {
   "cell_type": "code",
   "execution_count": 74,
   "metadata": {},
   "outputs": [],
   "source": [
    "# Residual function for Least Squares calculation\n",
    "\n",
    "def residual_func(x):\n",
    "    x_pos  = 0\n",
    "    y_pos  = 0\n",
    "    vx = 0\n",
    "    vy = 0\n",
    "\n",
    "    dt = 0.02\n",
    "\n",
    "    misa = np.array([[1, x[3], x[5]],[x[3], 1, x[4]],[x[5], x[4], 1]])\n",
    "    \n",
    "    for ii in range(len(imu_data)-1):\n",
    "\n",
    "        ax = imu_data.iloc[ii,6] - x[0] \n",
    "        ay = imu_data.iloc[ii,7] - x[1]\n",
    "        az = imu_data.iloc[ii,8] - x[2]\n",
    "        V  = np.array([[ax],[ay],[az]])\n",
    "        A  = np.matmul(misa, V)\n",
    "\n",
    "        x_pos += dt**2 / 2 * A[0] + dt * vx\n",
    "        y_pos += dt**2 / 2 * A[1] + dt * vy\n",
    "        vx    += dt * A[0]\n",
    "        vy    += dt * A[1]\n",
    "\n",
    "    return np.concatenate([x_pos, y_pos])"
   ]
  },
  {
   "cell_type": "code",
   "execution_count": 75,
   "metadata": {},
   "outputs": [],
   "source": [
    "# Run Least Squares\n",
    "x0 = np.array([0, 0, 0, misa[0,1], misa[1,2], misa[0,2]])\n",
    "opt = least_squares(residual_func, x0)"
   ]
  },
  {
   "cell_type": "code",
   "execution_count": 80,
   "metadata": {},
   "outputs": [],
   "source": [
    "# Run simulation with results \n",
    "\n",
    "x  = 0\n",
    "y  = 0\n",
    "vx = 0\n",
    "vy = 0\n",
    "pos_x = np.array([])\n",
    "pos_y = np.array([])\n",
    "\n",
    "x_raw  = 0\n",
    "y_raw  = 0\n",
    "vx_raw = 0\n",
    "vy_raw = 0\n",
    "pos_x_raw = np.array([])\n",
    "pos_y_raw = np.array([])\n",
    "\n",
    "t     = np.array([])\n",
    "dt = 0.02\n",
    "\n",
    "misa = np.array([[1, opt.x[3], opt.x[5]],[opt.x[3], 1, opt.x[4]],[opt.x[5], opt.x[4], 1]])\n",
    "\n",
    "for ii in range(len(imu_data)-1):\n",
    "\n",
    "    ax = imu_data.iloc[ii,6] - opt.x[0]\n",
    "    ay = imu_data.iloc[ii,7] - opt.x[1]\n",
    "    az = imu_data.iloc[ii,8] - opt.x[2]\n",
    "    V  = np.array([[ax],[ay],[az]])\n",
    "    A  = np.matmul(misa, V)\n",
    "\n",
    "    x  += dt**2 / 2 * A[0] + dt * vx\n",
    "    y  += dt**2 / 2 * A[1] + dt * vy\n",
    "    vx += dt * A[0]\n",
    "    vy += dt * A[1]\n",
    "    \n",
    "    pos_x = np.append(pos_x, x)\n",
    "    pos_y = np.append(pos_y, y)\n",
    "    \n",
    "    x_raw  += dt**2 / 2 * imu_data.iloc[ii,6] + dt * vx_raw\n",
    "    y_raw  += dt**2 / 2 * imu_data.iloc[ii,7] + dt * vy_raw\n",
    "    vx_raw += dt * imu_data.iloc[ii,6]\n",
    "    vy_raw += dt * imu_data.iloc[ii,7]\n",
    "    \n",
    "    pos_x_raw = np.append(pos_x_raw, x_raw)\n",
    "    pos_y_raw = np.append(pos_y_raw, y_raw)\n",
    "    \n",
    "    t     = np.append(t, imu_data.iloc[ii,2] - 1266945082.0)\n"
   ]
  },
  {
   "cell_type": "code",
   "execution_count": 89,
   "metadata": {},
   "outputs": [
    {
     "name": "stdout",
     "output_type": "stream",
     "text": [
      "Estimated Error Terms\n",
      "\n",
      "X Bias: -0.0026683898125025923\n",
      "Y Bias: -0.000956410201558852\n",
      "Z Bias: -5.772309828229052e-05\n",
      "\n",
      "Misalignment:\n",
      "[[ 1.00000000e+00 -2.82526466e-04 -1.24647919e-02]\n",
      " [-2.82526466e-04  1.00000000e+00 -6.78931811e-03]\n",
      " [-1.24647919e-02 -6.78931811e-03  1.00000000e+00]]\n"
     ]
    },
    {
     "data": {
      "image/png": "[encoded data removed]",
      "text/plain": [
       "<Figure size 432x288 with 1 Axes>"
      ]
     },
     "metadata": {
      "needs_background": "light"
     },
     "output_type": "display_data"
    }
   ],
   "source": [
    "print('Estimated Error Terms\\n')\n",
    "print('X Bias: ' + str(opt.x[0]))\n",
    "print('Y Bias: ' + str(opt.x[1]))\n",
    "print('Z Bias: ' + str(opt.x[2]))\n",
    "print('\\nMisalignment:')\n",
    "print(misa)\n",
    "\n",
    "plt.plot(t, pos_x, t, pos_y, t, pos_x_raw, t, pos_y_raw);\n",
    "plt.legend(['X Corrected', 'Y Corrected', 'X Raw', 'Y Raw']);\n",
    "plt.xlabel('Time [s]');\n",
    "plt.ylabel('Position [m]');"
   ]
  }
 ],
 "metadata": {
  "kernelspec": {
   "display_name": "Python 3",
   "language": "python",
   "name": "python3"
  },
  "language_info": {
   "codemirror_mode": {
    "name": "ipython",
    "version": 3
   },
   "file_extension": ".py",
   "mimetype": "text/x-python",
   "name": "python",
   "nbconvert_exporter": "python",
   "pygments_lexer": "ipython3",
   "version": "3.7.7"
  }
 },
 "nbformat": 4,
 "nbformat_minor": 4
}
