{
 "cells": [
  {
   "cell_type": "code",
   "execution_count": 2,
   "metadata": {},
   "outputs": [
    {
     "data": {
      "text/html": [
       "<div>\n",
       "<style scoped>\n",
       "    .dataframe tbody tr th:only-of-type {\n",
       "        vertical-align: middle;\n",
       "    }\n",
       "\n",
       "    .dataframe tbody tr th {\n",
       "        vertical-align: top;\n",
       "    }\n",
       "\n",
       "    .dataframe thead th {\n",
       "        text-align: right;\n",
       "    }\n",
       "</style>\n",
       "<table border=\"1\" class=\"dataframe\">\n",
       "  <thead>\n",
       "    <tr style=\"text-align: right;\">\n",
       "      <th></th>\n",
       "      <th>.header.seq</th>\n",
       "      <th>.header.frame_id</th>\n",
       "      <th>.Time</th>\n",
       "      <th>.Week</th>\n",
       "      <th>.Status</th>\n",
       "      <th>.RPY.x</th>\n",
       "      <th>.RPY.y</th>\n",
       "      <th>.RPY.z</th>\n",
       "      <th>.LLA.x</th>\n",
       "      <th>.LLA.y</th>\n",
       "      <th>...</th>\n",
       "      <th>.YawUncertainty</th>\n",
       "      <th>.PitchUncertainty</th>\n",
       "      <th>.RollUncertainty</th>\n",
       "      <th>.PosUncertainty</th>\n",
       "      <th>.VelUncertainty</th>\n",
       "      <th>.SyncInTime</th>\n",
       "      <th>.SyncInCount</th>\n",
       "      <th>.mag_speed</th>\n",
       "      <th>.LocalVel.x</th>\n",
       "      <th>.LocalVel.y</th>\n",
       "    </tr>\n",
       "    <tr>\n",
       "      <th>time</th>\n",
       "      <th></th>\n",
       "      <th></th>\n",
       "      <th></th>\n",
       "      <th></th>\n",
       "      <th></th>\n",
       "      <th></th>\n",
       "      <th></th>\n",
       "      <th></th>\n",
       "      <th></th>\n",
       "      <th></th>\n",
       "      <th></th>\n",
       "      <th></th>\n",
       "      <th></th>\n",
       "      <th></th>\n",
       "      <th></th>\n",
       "      <th></th>\n",
       "      <th></th>\n",
       "      <th></th>\n",
       "      <th></th>\n",
       "      <th></th>\n",
       "      <th></th>\n",
       "    </tr>\n",
       "  </thead>\n",
       "  <tbody>\n",
       "    <tr>\n",
       "      <th>0.000000</th>\n",
       "      <td>23995</td>\n",
       "      <td>vectornav</td>\n",
       "      <td>1.266946e+09</td>\n",
       "      <td>2094</td>\n",
       "      <td>33542</td>\n",
       "      <td>2.057272</td>\n",
       "      <td>-0.739279</td>\n",
       "      <td>5.663654</td>\n",
       "      <td>30.67242</td>\n",
       "      <td>-96.372515</td>\n",
       "      <td>...</td>\n",
       "      <td>0.309178</td>\n",
       "      <td>0.067305</td>\n",
       "      <td>0.067281</td>\n",
       "      <td>0.737166</td>\n",
       "      <td>0.095215</td>\n",
       "      <td>1.582908e+09</td>\n",
       "      <td>0</td>\n",
       "      <td>0.008869</td>\n",
       "      <td>0.005360</td>\n",
       "      <td>-0.007066</td>\n",
       "    </tr>\n",
       "    <tr>\n",
       "      <th>0.019065</th>\n",
       "      <td>23996</td>\n",
       "      <td>vectornav</td>\n",
       "      <td>1.266946e+09</td>\n",
       "      <td>2094</td>\n",
       "      <td>33542</td>\n",
       "      <td>2.058434</td>\n",
       "      <td>-0.738239</td>\n",
       "      <td>5.663603</td>\n",
       "      <td>30.67242</td>\n",
       "      <td>-96.372515</td>\n",
       "      <td>...</td>\n",
       "      <td>0.309263</td>\n",
       "      <td>0.067389</td>\n",
       "      <td>0.067364</td>\n",
       "      <td>0.738043</td>\n",
       "      <td>0.095509</td>\n",
       "      <td>1.582908e+09</td>\n",
       "      <td>0</td>\n",
       "      <td>0.008666</td>\n",
       "      <td>0.005406</td>\n",
       "      <td>-0.006773</td>\n",
       "    </tr>\n",
       "    <tr>\n",
       "      <th>0.039128</th>\n",
       "      <td>23997</td>\n",
       "      <td>vectornav</td>\n",
       "      <td>1.266946e+09</td>\n",
       "      <td>2094</td>\n",
       "      <td>774</td>\n",
       "      <td>2.058925</td>\n",
       "      <td>-0.737752</td>\n",
       "      <td>5.663154</td>\n",
       "      <td>30.67242</td>\n",
       "      <td>-96.372515</td>\n",
       "      <td>...</td>\n",
       "      <td>0.309349</td>\n",
       "      <td>0.067472</td>\n",
       "      <td>0.067448</td>\n",
       "      <td>0.738924</td>\n",
       "      <td>0.095803</td>\n",
       "      <td>1.582908e+09</td>\n",
       "      <td>0</td>\n",
       "      <td>0.008481</td>\n",
       "      <td>0.005204</td>\n",
       "      <td>-0.006697</td>\n",
       "    </tr>\n",
       "    <tr>\n",
       "      <th>0.059011</th>\n",
       "      <td>23998</td>\n",
       "      <td>vectornav</td>\n",
       "      <td>1.266946e+09</td>\n",
       "      <td>2094</td>\n",
       "      <td>774</td>\n",
       "      <td>2.059210</td>\n",
       "      <td>-0.737454</td>\n",
       "      <td>5.663722</td>\n",
       "      <td>30.67242</td>\n",
       "      <td>-96.372515</td>\n",
       "      <td>...</td>\n",
       "      <td>0.309434</td>\n",
       "      <td>0.067555</td>\n",
       "      <td>0.067531</td>\n",
       "      <td>0.739810</td>\n",
       "      <td>0.096098</td>\n",
       "      <td>1.582908e+09</td>\n",
       "      <td>0</td>\n",
       "      <td>0.008286</td>\n",
       "      <td>0.005036</td>\n",
       "      <td>-0.006580</td>\n",
       "    </tr>\n",
       "    <tr>\n",
       "      <th>0.079089</th>\n",
       "      <td>23999</td>\n",
       "      <td>vectornav</td>\n",
       "      <td>1.266946e+09</td>\n",
       "      <td>2094</td>\n",
       "      <td>33542</td>\n",
       "      <td>2.059155</td>\n",
       "      <td>-0.737929</td>\n",
       "      <td>5.663624</td>\n",
       "      <td>30.67242</td>\n",
       "      <td>-96.372515</td>\n",
       "      <td>...</td>\n",
       "      <td>0.309520</td>\n",
       "      <td>0.067638</td>\n",
       "      <td>0.067614</td>\n",
       "      <td>0.740700</td>\n",
       "      <td>0.096392</td>\n",
       "      <td>1.582908e+09</td>\n",
       "      <td>0</td>\n",
       "      <td>0.008350</td>\n",
       "      <td>0.005274</td>\n",
       "      <td>-0.006473</td>\n",
       "    </tr>\n",
       "  </tbody>\n",
       "</table>\n",
       "<p>5 rows × 24 columns</p>\n",
       "</div>"
      ],
      "text/plain": [
       "          .header.seq .header.frame_id         .Time  .Week  .Status  \\\n",
       "time                                                                   \n",
       "0.000000        23995        vectornav  1.266946e+09   2094    33542   \n",
       "0.019065        23996        vectornav  1.266946e+09   2094    33542   \n",
       "0.039128        23997        vectornav  1.266946e+09   2094      774   \n",
       "0.059011        23998        vectornav  1.266946e+09   2094      774   \n",
       "0.079089        23999        vectornav  1.266946e+09   2094    33542   \n",
       "\n",
       "            .RPY.x    .RPY.y    .RPY.z    .LLA.x     .LLA.y  ...  \\\n",
       "time                                                         ...   \n",
       "0.000000  2.057272 -0.739279  5.663654  30.67242 -96.372515  ...   \n",
       "0.019065  2.058434 -0.738239  5.663603  30.67242 -96.372515  ...   \n",
       "0.039128  2.058925 -0.737752  5.663154  30.67242 -96.372515  ...   \n",
       "0.059011  2.059210 -0.737454  5.663722  30.67242 -96.372515  ...   \n",
       "0.079089  2.059155 -0.737929  5.663624  30.67242 -96.372515  ...   \n",
       "\n",
       "          .YawUncertainty  .PitchUncertainty  .RollUncertainty  \\\n",
       "time                                                             \n",
       "0.000000         0.309178           0.067305          0.067281   \n",
       "0.019065         0.309263           0.067389          0.067364   \n",
       "0.039128         0.309349           0.067472          0.067448   \n",
       "0.059011         0.309434           0.067555          0.067531   \n",
       "0.079089         0.309520           0.067638          0.067614   \n",
       "\n",
       "          .PosUncertainty  .VelUncertainty   .SyncInTime  .SyncInCount  \\\n",
       "time                                                                     \n",
       "0.000000         0.737166         0.095215  1.582908e+09             0   \n",
       "0.019065         0.738043         0.095509  1.582908e+09             0   \n",
       "0.039128         0.738924         0.095803  1.582908e+09             0   \n",
       "0.059011         0.739810         0.096098  1.582908e+09             0   \n",
       "0.079089         0.740700         0.096392  1.582908e+09             0   \n",
       "\n",
       "          .mag_speed  .LocalVel.x  .LocalVel.y  \n",
       "time                                            \n",
       "0.000000    0.008869     0.005360    -0.007066  \n",
       "0.019065    0.008666     0.005406    -0.006773  \n",
       "0.039128    0.008481     0.005204    -0.006697  \n",
       "0.059011    0.008286     0.005036    -0.006580  \n",
       "0.079089    0.008350     0.005274    -0.006473  \n",
       "\n",
       "[5 rows x 24 columns]"
      ]
     },
     "execution_count": 2,
     "metadata": {},
     "output_type": "execute_result"
    }
   ],
   "source": [
    "import pandas\n",
    "import matplotlib.pyplot as plt\n",
    "import numpy as np\n",
    "\n",
    "\n",
    "\n",
    "# Load INS data\n",
    "ins_data = pandas.read_csv('csv/3-vectornav-ins.csv')\n",
    "ins_data = ins_data.drop(columns=['.header.stamp.secs','.header.stamp.nsecs'])\n",
    "ins_data['time'] = pandas.to_datetime(ins_data['time'])\n",
    "ins_data['time'] = (ins_data['time'] - ins_data['time'][0]).astype('timedelta64[ns]').astype('int64')*1e-9\n",
    "ins_data = ins_data.set_index('time')\n",
    "\n",
    "# Load GPS Fix (raw) data\n",
    "fix_data = pandas.read_csv('csv/3-vectornav-fix.csv')\n",
    "fix_data = fix_data.drop(columns=['.header.stamp.secs','.header.stamp.nsecs'])\n",
    "fix_data['time'] = pandas.to_datetime(fix_data['time'])\n",
    "fix_data['time'] = (fix_data['time'] - fix_data['time'][0]).astype('timedelta64[ns]').astype('int64')*1e-9\n",
    "fix_data = fix_data.set_index('time')\n",
    "\n",
    "\n",
    "\n",
    "# Load IMU Data\n",
    "imu_data = pandas.read_csv('csv/3-vectornav-imu.csv') \n",
    "imu_data = imu_data.drop(columns=['.header.stamp.secs','.header.stamp.nsecs'])\n",
    "imu_data['time'] = pandas.to_datetime(imu_data['time'])\n",
    "imu_data['time'] = (imu_data['time'] - imu_data['time'][0]).astype('timedelta64[ns]').astype('int64')*1e-9\n",
    "imu_data = imu_data.set_index('time')\n",
    "\n",
    "\n",
    "# Load Pacmod Speed Data\n",
    "# pacmod parsed_txt/vehicle_speed is gets corrupt rows, so we will use as_tx/vehicle_speed\n",
    "pacmod_speed = pandas.read_csv('csv/3-pacmod-as_tx-vehicle_speed.csv')\n",
    "pacmod_speed['time'] = pandas.to_datetime(pacmod_speed['time'])\n",
    "pacmod_speed['time'] = (pacmod_speed['time'] - pacmod_speed['time'][0]).astype('timedelta64[ns]').astype('int64')*1e-9\n",
    "# Additionally, there is an factor offset between parsed_txt/vehicle_speed and as_tx/vehicle_speed for whatever reason\n",
    "# Use 2.237\n",
    "pacmod_speed['.data'] = pacmod_speed['.data']*2.237\n",
    "pacmod_speed = pacmod_speed.set_index('time')\n",
    "\n",
    "# Load Pacmod Steer Data\n",
    "pacmod_steer = pandas.read_csv('csv/3-pacmod-parsed_tx-steer_rpt.csv')\n",
    "pacmod_steer = pacmod_steer.drop(columns=['.header.stamp.secs','.header.stamp.nsecs'])\n",
    "pacmod_steer['time'] = pandas.to_datetime(pacmod_steer['time'])\n",
    "pacmod_steer['time'] = (pacmod_steer['time'] - pacmod_steer['time'][0]).astype('timedelta64[ns]').astype('int64')*1e-9\n",
    "pacmod_steer = pacmod_steer.set_index('time')\n",
    "\n",
    "\n",
    "# Add some basic calculations to dataframes ...\n",
    "\n",
    "# Mangitude of speed\n",
    "ins_data['.mag_speed'] = (ins_data['.NedVel.y']**2 + ins_data['.NedVel.x']**2)**(1/2)\n",
    "\n",
    "# ENU Frame - subtract 90 from yaw\n",
    "yaw = (90 - ins_data['.RPY.z']) * np.pi/180\n",
    "ins_x_vel = ins_data['.NedVel.y'] \n",
    "ins_y_vel = ins_data['.NedVel.x'] \n",
    "\n",
    "# Local velocity at IMU location\n",
    "ins_data['.LocalVel.x'] = np.multiply(ins_x_vel,np.cos(yaw)) + np.multiply(ins_y_vel,np.sin(yaw))\n",
    "ins_data['.LocalVel.y'] = -np.multiply(ins_x_vel,np.sin(yaw)) + np.multiply(ins_y_vel,np.cos(yaw))\n",
    "del yaw, ins_x_vel, ins_y_vel # clear unused variables\n",
    "ins_data.head()"
   ]
  },
  {
   "cell_type": "code",
   "execution_count": 3,
   "metadata": {},
   "outputs": [],
   "source": [
    "predicted_yaw = [ins_data['.RPY.z'][0]* np.pi/180] # Initialize first heading value to INS heading\n",
    "\n",
    "for steering,time in zip(pacmod_steer['.manual_input'],pacmod_steer.index):\n",
    "    V = pacmod_speed.iloc[pacmod_speed.index.get_loc(time,method='nearest')]['.data']\n",
    "    prediction = predicted_yaw[-1] - (V/3.4)*np.tan(steering/20.0)*0.033 # updated equation. \n",
    "    prediction = (prediction + np.pi) % (2* np.pi) - np.pi # Wrap to pi\n",
    "    predicted_yaw.append(prediction)\n",
    "\n"
   ]
  },
  {
   "cell_type": "code",
   "execution_count": 4,
   "metadata": {},
   "outputs": [],
   "source": [
    "imu_yaw = [ins_data['.RPY.z'][0]* np.pi/180] # Initialize first heading value to INS heading\n",
    "for i in range(imu_data.index.size - 1):\n",
    "    t0 = imu_data.index[i]\n",
    "    t1 = imu_data.index[i+1]\n",
    "    y0 = imu_data['.Gyro.z'].iloc[i]\n",
    "    integration = imu_yaw[-1] + (y0)*(t1-t0)\n",
    "    integration = (integration + np.pi) % (2* np.pi) - np.pi # Wrap to pi\n",
    "    imu_yaw.append(integration)\n"
   ]
  },
  {
   "cell_type": "markdown",
   "metadata": {},
   "source": [
    "## Integrating Yaw"
   ]
  },
  {
   "cell_type": "code",
   "execution_count": 5,
   "metadata": {},
   "outputs": [
    {
     "data": {
      "image/png": "[encoded data removed]",
      "text/plain": [
       "<Figure size 432x288 with 1 Axes>"
      ]
     },
     "metadata": {
      "needs_background": "light"
     },
     "output_type": "display_data"
    }
   ],
   "source": [
    "plt.figure()\n",
    "plt.plot(ins_data.index.values,ins_data['.RPY.z'] * np.pi/180,label='INS') # plot yaw\n",
    "plt.plot(imu_data.index,imu_yaw,label='Imu Integrated',alpha=0.75)\n",
    "plt.xlabel('Time [s]')\n",
    "plt.ylabel('heading [rad]')\n",
    "plt.title('INS vs. IMU Integrated Heading');\n",
    "plt.legend()\n",
    "plt.show();"
   ]
  },
  {
   "cell_type": "markdown",
   "metadata": {},
   "source": [
    "Integrated yaw looks pretty good actually. Gyro data is probably less noisy than acceleration data. "
   ]
  },
  {
   "cell_type": "markdown",
   "metadata": {},
   "source": [
    "## Integrating Acceleration for Velocity"
   ]
  },
  {
   "cell_type": "code",
   "execution_count": 6,
   "metadata": {},
   "outputs": [],
   "source": [
    "# Perform integration, Initialize to ins_data[0]\n",
    "imu_vel_x = np.asarray([ins_data['.NedVel.x'].iloc[0]])\n",
    "imu_vel_y = np.asarray([ins_data['.NedVel.y'].iloc[0]])\n",
    "\n",
    "for i in range(imu_data.index.size - 1):\n",
    "    t0 = imu_data.index[i]\n",
    "    t1 = imu_data.index[i+1]\n",
    "    v_x0 = imu_data['.Accel.x'].iloc[i]\n",
    "    v_y0 = imu_data['.Accel.y'].iloc[i]\n",
    "    vel_x = imu_vel_x[-1] + ( ((v_x0)*(t1-t0)))\n",
    "    vel_y = imu_vel_y[-1] + ( ((v_y0)*(t1-t0))) \n",
    "    imu_vel_x = np.append(imu_vel_x,vel_x)\n",
    "    imu_vel_y = np.append(imu_vel_y,vel_y)\n",
    "\n",
    "imu_vel = (imu_vel_x**2 + imu_vel_y**2)**(1/2)\n"
   ]
  },
  {
   "cell_type": "code",
   "execution_count": 7,
   "metadata": {},
   "outputs": [
    {
     "data": {
      "text/plain": [
       "Text(0.5, 1.0, 'Comparison of IMU integrated vs. INS velocity')"
      ]
     },
     "execution_count": 7,
     "metadata": {},
     "output_type": "execute_result"
    },
    {
     "data": {
      "image/png": "[encoded data removed]",
      "text/plain": [
       "<Figure size 432x288 with 1 Axes>"
      ]
     },
     "metadata": {
      "needs_background": "light"
     },
     "output_type": "display_data"
    }
   ],
   "source": [
    "# Plot INS vs Imu Integrated velocity\n",
    "plt.plot(ins_data.index,ins_data['.mag_speed'],label='INS')\n",
    "plt.plot(imu_data.index,imu_vel,label=\"IMU Integrated\")\n",
    "plt.xlabel('Time [s]')\n",
    "plt.ylabel('Velocity [m/s]')\n",
    "plt.legend()\n",
    "plt.title('Comparison of IMU integrated vs. INS velocity')"
   ]
  },
  {
   "cell_type": "markdown",
   "metadata": {},
   "source": [
    "### Where does this drift come from?\n",
    "\n",
    "Let's observe some acceleration data when the velocity of the golfcart is zero (observed when the magnitude of the GPS speed is < 0.01 m/s)"
   ]
  },
  {
   "cell_type": "code",
   "execution_count": 8,
   "metadata": {},
   "outputs": [
    {
     "data": {
      "text/html": [
       "<div>\n",
       "<style scoped>\n",
       "    .dataframe tbody tr th:only-of-type {\n",
       "        vertical-align: middle;\n",
       "    }\n",
       "\n",
       "    .dataframe tbody tr th {\n",
       "        vertical-align: top;\n",
       "    }\n",
       "\n",
       "    .dataframe thead th {\n",
       "        text-align: right;\n",
       "    }\n",
       "</style>\n",
       "<table border=\"1\" class=\"dataframe\">\n",
       "  <thead>\n",
       "    <tr style=\"text-align: right;\">\n",
       "      <th></th>\n",
       "      <th>.gps_time</th>\n",
       "      <th>.Mag.x</th>\n",
       "      <th>.Mag.y</th>\n",
       "      <th>.Mag.z</th>\n",
       "      <th>.Accel.x</th>\n",
       "      <th>.Accel.y</th>\n",
       "      <th>.Accel.z</th>\n",
       "      <th>.Gyro.x</th>\n",
       "      <th>.Gyro.y</th>\n",
       "      <th>.Gyro.z</th>\n",
       "      <th>.Temp</th>\n",
       "      <th>.Pressure</th>\n",
       "    </tr>\n",
       "  </thead>\n",
       "  <tbody>\n",
       "    <tr>\n",
       "      <th>count</th>\n",
       "      <td>1.000000e+02</td>\n",
       "      <td>100.0</td>\n",
       "      <td>100.0</td>\n",
       "      <td>100.0</td>\n",
       "      <td>100.000000</td>\n",
       "      <td>100.000000</td>\n",
       "      <td>100.000000</td>\n",
       "      <td>100.000000</td>\n",
       "      <td>100.000000</td>\n",
       "      <td>100.000000</td>\n",
       "      <td>100.0</td>\n",
       "      <td>100.0</td>\n",
       "    </tr>\n",
       "    <tr>\n",
       "      <th>mean</th>\n",
       "      <td>1.266946e+09</td>\n",
       "      <td>0.0</td>\n",
       "      <td>0.0</td>\n",
       "      <td>0.0</td>\n",
       "      <td>-0.312736</td>\n",
       "      <td>-0.153232</td>\n",
       "      <td>-9.766966</td>\n",
       "      <td>0.000067</td>\n",
       "      <td>-0.000003</td>\n",
       "      <td>-0.000015</td>\n",
       "      <td>0.0</td>\n",
       "      <td>0.0</td>\n",
       "    </tr>\n",
       "    <tr>\n",
       "      <th>std</th>\n",
       "      <td>4.863606e+01</td>\n",
       "      <td>0.0</td>\n",
       "      <td>0.0</td>\n",
       "      <td>0.0</td>\n",
       "      <td>0.153943</td>\n",
       "      <td>0.157563</td>\n",
       "      <td>0.024637</td>\n",
       "      <td>0.001170</td>\n",
       "      <td>0.000860</td>\n",
       "      <td>0.000759</td>\n",
       "      <td>0.0</td>\n",
       "      <td>0.0</td>\n",
       "    </tr>\n",
       "    <tr>\n",
       "      <th>min</th>\n",
       "      <td>1.266946e+09</td>\n",
       "      <td>0.0</td>\n",
       "      <td>0.0</td>\n",
       "      <td>0.0</td>\n",
       "      <td>-0.516115</td>\n",
       "      <td>-0.380444</td>\n",
       "      <td>-9.821852</td>\n",
       "      <td>-0.002065</td>\n",
       "      <td>-0.002715</td>\n",
       "      <td>-0.001544</td>\n",
       "      <td>0.0</td>\n",
       "      <td>0.0</td>\n",
       "    </tr>\n",
       "    <tr>\n",
       "      <th>25%</th>\n",
       "      <td>1.266946e+09</td>\n",
       "      <td>0.0</td>\n",
       "      <td>0.0</td>\n",
       "      <td>0.0</td>\n",
       "      <td>-0.442355</td>\n",
       "      <td>-0.343320</td>\n",
       "      <td>-9.782477</td>\n",
       "      <td>-0.000827</td>\n",
       "      <td>-0.000449</td>\n",
       "      <td>-0.000582</td>\n",
       "      <td>0.0</td>\n",
       "      <td>0.0</td>\n",
       "    </tr>\n",
       "    <tr>\n",
       "      <th>50%</th>\n",
       "      <td>1.266946e+09</td>\n",
       "      <td>0.0</td>\n",
       "      <td>0.0</td>\n",
       "      <td>0.0</td>\n",
       "      <td>-0.406985</td>\n",
       "      <td>-0.051076</td>\n",
       "      <td>-9.768445</td>\n",
       "      <td>0.000023</td>\n",
       "      <td>-0.000046</td>\n",
       "      <td>-0.000020</td>\n",
       "      <td>0.0</td>\n",
       "      <td>0.0</td>\n",
       "    </tr>\n",
       "    <tr>\n",
       "      <th>75%</th>\n",
       "      <td>1.266946e+09</td>\n",
       "      <td>0.0</td>\n",
       "      <td>0.0</td>\n",
       "      <td>0.0</td>\n",
       "      <td>-0.132130</td>\n",
       "      <td>-0.023278</td>\n",
       "      <td>-9.753196</td>\n",
       "      <td>0.000847</td>\n",
       "      <td>0.000529</td>\n",
       "      <td>0.000545</td>\n",
       "      <td>0.0</td>\n",
       "      <td>0.0</td>\n",
       "    </tr>\n",
       "    <tr>\n",
       "      <th>max</th>\n",
       "      <td>1.266946e+09</td>\n",
       "      <td>0.0</td>\n",
       "      <td>0.0</td>\n",
       "      <td>0.0</td>\n",
       "      <td>-0.086527</td>\n",
       "      <td>0.066165</td>\n",
       "      <td>-9.675923</td>\n",
       "      <td>0.003721</td>\n",
       "      <td>0.002181</td>\n",
       "      <td>0.002124</td>\n",
       "      <td>0.0</td>\n",
       "      <td>0.0</td>\n",
       "    </tr>\n",
       "  </tbody>\n",
       "</table>\n",
       "</div>"
      ],
      "text/plain": [
       "          .gps_time  .Mag.x  .Mag.y  .Mag.z    .Accel.x    .Accel.y  \\\n",
       "count  1.000000e+02   100.0   100.0   100.0  100.000000  100.000000   \n",
       "mean   1.266946e+09     0.0     0.0     0.0   -0.312736   -0.153232   \n",
       "std    4.863606e+01     0.0     0.0     0.0    0.153943    0.157563   \n",
       "min    1.266946e+09     0.0     0.0     0.0   -0.516115   -0.380444   \n",
       "25%    1.266946e+09     0.0     0.0     0.0   -0.442355   -0.343320   \n",
       "50%    1.266946e+09     0.0     0.0     0.0   -0.406985   -0.051076   \n",
       "75%    1.266946e+09     0.0     0.0     0.0   -0.132130   -0.023278   \n",
       "max    1.266946e+09     0.0     0.0     0.0   -0.086527    0.066165   \n",
       "\n",
       "         .Accel.z     .Gyro.x     .Gyro.y     .Gyro.z  .Temp  .Pressure  \n",
       "count  100.000000  100.000000  100.000000  100.000000  100.0      100.0  \n",
       "mean    -9.766966    0.000067   -0.000003   -0.000015    0.0        0.0  \n",
       "std      0.024637    0.001170    0.000860    0.000759    0.0        0.0  \n",
       "min     -9.821852   -0.002065   -0.002715   -0.001544    0.0        0.0  \n",
       "25%     -9.782477   -0.000827   -0.000449   -0.000582    0.0        0.0  \n",
       "50%     -9.768445    0.000023   -0.000046   -0.000020    0.0        0.0  \n",
       "75%     -9.753196    0.000847    0.000529    0.000545    0.0        0.0  \n",
       "max     -9.675923    0.003721    0.002181    0.002124    0.0        0.0  "
      ]
     },
     "execution_count": 8,
     "metadata": {},
     "output_type": "execute_result"
    }
   ],
   "source": [
    "v_is_zero = ins_data['.mag_speed'] < 1e-2\n",
    "v_is_zero = ins_data[v_is_zero]['.mag_speed'] >= 0.0\n",
    "v_is_zero = v_is_zero.index[v_is_zero]\n",
    "\n",
    "imu_when_zeroV = pandas.DataFrame(columns=imu_data.columns)\n",
    "for t in v_is_zero:\n",
    "    imu = imu_data.iloc[imu_data.index.get_loc(t,method='nearest')]\n",
    "    imu_when_zeroV = imu_when_zeroV.append(imu)\n",
    "imu_when_zeroV.describe()"
   ]
  },
  {
   "cell_type": "code",
   "execution_count": 21,
   "metadata": {},
   "outputs": [
    {
     "data": {
      "image/png": "[encoded data removed]",
      "text/plain": [
       "<Figure size 432x288 with 1 Axes>"
      ]
     },
     "metadata": {
      "needs_background": "light"
     },
     "output_type": "display_data"
    },
    {
     "data": {
      "image/png": "[encoded data removed]",
      "text/plain": [
       "<Figure size 432x288 with 1 Axes>"
      ]
     },
     "metadata": {
      "needs_background": "light"
     },
     "output_type": "display_data"
    }
   ],
   "source": [
    "plt.figure()\n",
    "plt.hist(imu_when_zeroV['.Accel.x'],bins=32,alpha=0.5,label=\"X Acceleration\",density=True)\n",
    "plt.hist(imu_when_zeroV['.Accel.y'],bins=32,alpha=0.5,label=\"Y Acceleration\",density=True)\n",
    "plt.xlim([-0.75,0.3])\n",
    "plt.xlabel('Acceleration [m/s^2]')\n",
    "plt.ylabel('Density')\n",
    "plt.title('XY Acceleration Distribution with vehicle stopped')\n",
    "plt.legend()\n",
    "plt.figure()\n",
    "\n",
    "plt.hist(imu_when_zeroV['.Accel.z'],bins=50,alpha=0.5,density=True,label=\"Z Acceleration\")\n",
    "plt.xlim([-9.85,-9.65])\n",
    "plt.xlabel('Acceleration [m/s^2]')\n",
    "plt.ylabel('Density')\n",
    "plt.title('Z Acceleration Distribution with vehicle stopped')\n",
    "plt.legend();"
   ]
  },
  {
   "cell_type": "code",
   "execution_count": 10,
   "metadata": {},
   "outputs": [],
   "source": [
    "# Code accelerations by stop\n",
    "imu_when_zeroV['group'] = None\n",
    "c_time = imu_when_zeroV.index[0]\n",
    "group = 0\n",
    "for t in imu_when_zeroV.index:\n",
    "    if np.abs(c_time - t) > 10: # Seperation time in seconds. Tune according to dataset\n",
    "        group += 1\n",
    "        c_time = t\n",
    "    imu_when_zeroV.at[t,'group'] = group\n",
    "    #print(t,group)\n",
    "    #print(imu_when_zeroV)"
   ]
  },
  {
   "cell_type": "code",
   "execution_count": 12,
   "metadata": {},
   "outputs": [
    {
     "data": {
      "text/plain": [
       "<matplotlib.legend.Legend at 0x7effcf1d3f98>"
      ]
     },
     "execution_count": 12,
     "metadata": {},
     "output_type": "execute_result"
    },
    {
     "data": {
      "image/png": "[encoded data removed]",
      "text/plain": [
       "<Figure size 432x288 with 1 Axes>"
      ]
     },
     "metadata": {
      "needs_background": "light"
     },
     "output_type": "display_data"
    }
   ],
   "source": [
    "plt.title('XY Acceleration Scatter during stops')\n",
    "plt.scatter(imu_when_zeroV['.Accel.y'],imu_when_zeroV['.Accel.x'],s=1,c=imu_when_zeroV['group'],label='data')\n",
    "plt.scatter(0.0,0.0,s=45,color='red',label='zero',marker='x')\n",
    "plt.scatter(imu_when_zeroV['.Accel.y'].mean(),imu_when_zeroV['.Accel.x'].mean(),s=45,marker='^',color='k',label='mean')\n",
    "plt.xlabel('Y Acceleration [$m/s^2$]')\n",
    "plt.ylabel('X Acceleration [$m/s^2$]');\n",
    "plt.legend()"
   ]
  },
  {
   "cell_type": "markdown",
   "metadata": {},
   "source": [
    "## Subtracting out the bias, and re-integrating"
   ]
  },
  {
   "cell_type": "code",
   "execution_count": 19,
   "metadata": {},
   "outputs": [],
   "source": [
    "bx = imu_when_zeroV['.Accel.x'].mean()\n",
    "by = imu_when_zeroV['.Accel.y'].mean()\n",
    "\n",
    "# Perform integration, Initialize to ins_data[0]\n",
    "imu_vel_x = np.asarray([ins_data['.NedVel.x'].iloc[0]])\n",
    "imu_vel_y = np.asarray([ins_data['.NedVel.y'].iloc[0]])\n",
    "\n",
    "for i in range(imu_data.index.size - 1):\n",
    "    t0 = imu_data.index[i]\n",
    "    t1 = imu_data.index[i+1]\n",
    "    v_x0 = imu_data['.Accel.x'].iloc[i]  - bx\n",
    "    v_y0 = imu_data['.Accel.y'].iloc[i]  - by\n",
    "    vel_x = imu_vel_x[-1] + ( ((v_x0)*(t1-t0)))\n",
    "    vel_y = imu_vel_y[-1] + ( ((v_y0)*(t1-t0))) \n",
    "    imu_vel_x = np.append(imu_vel_x,vel_x)\n",
    "    imu_vel_y = np.append(imu_vel_y,vel_y)\n",
    "\n",
    "imu_vel = (imu_vel_x**2 + imu_vel_y**2)**(1/2)"
   ]
  },
  {
   "cell_type": "code",
   "execution_count": 20,
   "metadata": {},
   "outputs": [
    {
     "data": {
      "text/plain": [
       "Text(0.5, 1.0, 'Comparison of IMU integrated vs. INS velocity')"
      ]
     },
     "execution_count": 20,
     "metadata": {},
     "output_type": "execute_result"
    },
    {
     "data": {
      "image/png": "[encoded data removed]",
      "text/plain": [
       "<Figure size 432x288 with 1 Axes>"
      ]
     },
     "metadata": {
      "needs_background": "light"
     },
     "output_type": "display_data"
    }
   ],
   "source": [
    "# Plot INS vs Imu Integrated velocity\n",
    "plt.plot(ins_data.index,ins_data['.mag_speed'],label='INS')\n",
    "plt.plot(imu_data.index,imu_vel,label=\"IMU Integrated, no bias\")\n",
    "plt.xlabel('Time [s]')\n",
    "plt.ylabel('Velocity [m/s]')\n",
    "plt.legend()\n",
    "plt.title('Comparison of IMU integrated vs. INS velocity')"
   ]
  },
  {
   "cell_type": "code",
   "execution_count": null,
   "metadata": {},
   "outputs": [],
   "source": []
  }
 ],
 "metadata": {
  "kernelspec": {
   "display_name": "Python 3",
   "language": "python",
   "name": "python3"
  },
  "language_info": {
   "codemirror_mode": {
    "name": "ipython",
    "version": 3
   },
   "file_extension": ".py",
   "mimetype": "text/x-python",
   "name": "python",
   "nbconvert_exporter": "python",
   "pygments_lexer": "ipython3",
   "version": "3.5.3"
  }
 },
 "nbformat": 4,
 "nbformat_minor": 2
}
